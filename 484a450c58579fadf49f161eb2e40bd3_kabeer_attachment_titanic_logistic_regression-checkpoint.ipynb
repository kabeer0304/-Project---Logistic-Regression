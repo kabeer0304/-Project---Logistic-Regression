{
 "cells": [
  {
   "cell_type": "code",
   "execution_count": 108,
   "id": "d4b293a9",
   "metadata": {},
   "outputs": [],
   "source": [
    "import pandas as pd\n",
    "import numpy as np\n",
    "from sklearn.linear_model import LogisticRegression as lr\n",
    "from sklearn.ensemble import GradientBoostingRegressor as gbr\n",
    "from sklearn import datasets as ds\n",
    "from sklearn import preprocessing as pp"
   ]
  },
  {
   "cell_type": "code",
   "execution_count": 42,
   "id": "cf5c4e01",
   "metadata": {},
   "outputs": [],
   "source": [
    "def fun(x):\n",
    "    z = x.split(',')[1].split('.')[0].strip()\n",
    "    if(z=='Mrs'):\n",
    "        return 0\n",
    "    if(z=='Mr'):\n",
    "        return 1\n",
    "    if(z=='Miss'):\n",
    "        return 2\n",
    "    if(z=='Jonkheer'):\n",
    "        return 3\n",
    "    if(z=='Col'):\n",
    "        return 4\n",
    "    if(z=='Master'):\n",
    "        return 5\n",
    "    if(z=='Lady'):\n",
    "        return 6\n",
    "    if(z=='Ms'):\n",
    "        return 7\n",
    "    if(z=='Rev'):\n",
    "        return 8\n",
    "    if(z=='Mlle'):\n",
    "        return 9\n",
    "    if(z=='Major'):\n",
    "        return 10\n",
    "    if(z=='Capt'):\n",
    "        return 11\n",
    "    if(z=='Dr'):\n",
    "        return 12\n",
    "    if(z=='Sir'):\n",
    "        return 13\n",
    "    if(z=='Don'):\n",
    "        return 14\n",
    "    if(z=='Mme'):\n",
    "        return 15"
   ]
  },
  {
   "cell_type": "code",
   "execution_count": 45,
   "id": "6baad28d",
   "metadata": {},
   "outputs": [],
   "source": [
    "def sex(x):\n",
    "    if(x=='female'):\n",
    "        return 0\n",
    "    else:\n",
    "        return 1"
   ]
  },
  {
   "cell_type": "code",
   "execution_count": 60,
   "id": "7c7bffe8",
   "metadata": {},
   "outputs": [],
   "source": [
    "def cabin(x):\n",
    "    if(x== '-'):\n",
    "        return 0\n",
    "    else:\n",
    "        return 1"
   ]
  },
  {
   "cell_type": "code",
   "execution_count": 82,
   "id": "a057ede5",
   "metadata": {},
   "outputs": [],
   "source": [
    "def ticket(x):\n",
    "    if(\" \" in x):\n",
    "        return int(float(x.split()[1].strip()))\n",
    "    else:\n",
    "        return int(float(x))"
   ]
  },
  {
   "cell_type": "code",
   "execution_count": 58,
   "id": "1a4c26ac",
   "metadata": {},
   "outputs": [],
   "source": [
    "def emb(x):\n",
    "    if(x=='S'):\n",
    "        return 1\n",
    "    if(x=='C'):\n",
    "        return 2\n",
    "    if(x=='Q'):\n",
    "        return 3\n",
    "    if(x=='-'):\n",
    "        return 4"
   ]
  },
  {
   "cell_type": "code",
   "execution_count": 123,
   "id": "3f5a8c6f",
   "metadata": {},
   "outputs": [
    {
     "name": "stdout",
     "output_type": "stream",
     "text": [
      "(223, 54)\n"
     ]
    }
   ],
   "source": [
    "a = pd.read_csv('training_titanic_x_y_train.csv')\n",
    "b = pd.read_csv('test_titanic_x_test.csv')\n",
    "a['Name']=a['Name'].apply(fun)\n",
    "a['Sex'] = a['Sex'].apply(sex)\n",
    "\n",
    "a['Cabin'].fillna(\"-\",inplace=True)\n",
    "a['Embarked'].fillna(\"-\",inplace=True)\n",
    "a['Age'].fillna(int(a['Age'].mean()),inplace=True)\n",
    "\n",
    "del a['Ticket']\n",
    "a['Cabin']=a['Cabin'].apply(cabin)\n",
    "a['Embarked'] = a['Embarked'].apply(emb)\n",
    "\n",
    "b['Cabin'].fillna(\"-\",inplace=True)\n",
    "b['Embarked'].fillna(\"-\",inplace=True)\n",
    "b['Age'].fillna(int(a['Age'].mean()),inplace=True)\n",
    "\n",
    "b['Name']=b['Name'].apply(fun)\n",
    "b['Sex'] = b['Sex'].apply(sex)\n",
    "del b['Ticket']\n",
    "b['Cabin']=b['Cabin'].apply(cabin)\n",
    "b['Embarked'] = b['Embarked'].apply(emb)\n",
    "    \n",
    "\n",
    "a_1 = a.iloc[:,:9]\n",
    "a_2 = a.iloc[:,9]\n",
    "h = a.columns\n",
    "for i in range(9):\n",
    "    for j in range(i,9):\n",
    "        a_1[h[i]+'_'+h[j]] = a_1[h[i]]*a_1[h[j]]\n",
    "        b[h[i]+'_'+h[j]] = b[h[i]]*b[h[j]]\n",
    "\n",
    "x_train = np.array(a_1,dtype=float)\n",
    "y_train = np.array(a_2,dtype=float)\n",
    "x_test = np.array(b,dtype=int)\n",
    "a_1_scaled = pp.MinMaxScaler()\n",
    "a_1_scaled.fit(x_train)\n",
    "x_tr = a_1_scaled.transform(x_train)\n",
    "b_scaled = pp.MinMaxScaler()\n",
    "b_scaled.fit(x_test)\n",
    "x_tt = b_scaled.transform(x_test)\n",
    "\n",
    "\n",
    "print(x_tt.shape)\n",
    "\n"
   ]
  },
  {
   "cell_type": "code",
   "execution_count": 125,
   "id": "02fc1ce0",
   "metadata": {},
   "outputs": [
    {
     "name": "stdout",
     "output_type": "stream",
     "text": [
      "0.8188622754491018\n"
     ]
    },
    {
     "data": {
      "text/plain": [
       "array([1., 1., 0., 1., 1., 1., 0., 0., 0., 0., 1., 0., 1., 0., 1., 0., 0.,\n",
       "       1., 0., 0., 1., 0., 1., 1., 0., 1., 0., 1., 1., 0., 0., 1., 0., 0.,\n",
       "       0., 1., 1., 1., 0., 1., 0., 0., 0., 0., 0., 1., 0., 0., 1., 0., 0.,\n",
       "       0., 1., 1., 0., 0., 1., 0., 0., 0., 0., 1., 1., 0., 0., 0., 0., 1.,\n",
       "       1., 1., 0., 0., 1., 0., 0., 1., 1., 1., 1., 0., 1., 1., 0., 1., 1.,\n",
       "       1., 1., 1., 0., 0., 0., 0., 0., 0., 0., 1., 0., 1., 1., 1., 0., 0.,\n",
       "       1., 1., 1., 1., 0., 0., 1., 0., 0., 1., 1., 0., 1., 1., 0., 0., 0.,\n",
       "       0., 0., 0., 0., 0., 1., 1., 1., 1., 1., 1., 0., 0., 0., 0., 1., 0.,\n",
       "       1., 1., 0., 1., 0., 0., 1., 0., 0., 0., 0., 0., 0., 1., 1., 0., 1.,\n",
       "       0., 1., 0., 1., 0., 0., 1., 0., 1., 1., 0., 1., 0., 1., 0., 1., 0.,\n",
       "       1., 1., 0., 0., 1., 0., 0., 0., 0., 1., 0., 0., 1., 0., 1., 0., 0.,\n",
       "       1., 1., 0., 0., 1., 1., 0., 0., 0., 1., 0., 1., 0., 0., 1., 0., 1.,\n",
       "       0., 1., 1., 0., 1., 1., 1., 0., 0., 1., 0., 0., 0., 0., 0., 1., 1.,\n",
       "       0., 1.])"
      ]
     },
     "execution_count": 125,
     "metadata": {},
     "output_type": "execute_result"
    }
   ],
   "source": [
    "model = lr(penalty='l2',multi_class='ovr',solver='saga')\n",
    "model.fit(x_tr,y_train)\n",
    "print(model.score(x_tr,y_train))\n",
    "y_pred = model.predict(x_test)\n",
    "y_pred"
   ]
  },
  {
   "cell_type": "code",
   "execution_count": 110,
   "id": "67a4dbfb",
   "metadata": {},
   "outputs": [
    {
     "data": {
      "text/plain": [
       "0.08220785291167831"
      ]
     },
     "execution_count": 110,
     "metadata": {},
     "output_type": "execute_result"
    }
   ],
   "source": [
    "model_2 = gbr(learning_rate=0.001)\n",
    "model_2.fit(x_tr,y_train)\n",
    "model_2.score(x_tr,y_train)"
   ]
  },
  {
   "cell_type": "code",
   "execution_count": 128,
   "id": "6be7e2bf",
   "metadata": {},
   "outputs": [],
   "source": [
    "pred_titanic = pd.DataFrame(y_pred)\n",
    "pred_titanic.to_csv('pred_titanic.csv',sep=\" \",header = None,index=False)"
   ]
  },
  {
   "cell_type": "code",
   "execution_count": null,
   "id": "ad230d49",
   "metadata": {},
   "outputs": [],
   "source": []
  },
  {
   "cell_type": "code",
   "execution_count": null,
   "id": "ff553608",
   "metadata": {},
   "outputs": [],
   "source": []
  },
  {
   "cell_type": "code",
   "execution_count": null,
   "id": "f42a0f49",
   "metadata": {},
   "outputs": [],
   "source": []
  },
  {
   "cell_type": "code",
   "execution_count": null,
   "id": "779d75ac",
   "metadata": {},
   "outputs": [],
   "source": []
  },
  {
   "cell_type": "code",
   "execution_count": null,
   "id": "f2caa850",
   "metadata": {},
   "outputs": [],
   "source": []
  },
  {
   "cell_type": "code",
   "execution_count": null,
   "id": "d3d4c305",
   "metadata": {},
   "outputs": [],
   "source": []
  },
  {
   "cell_type": "code",
   "execution_count": null,
   "id": "a46bf48a",
   "metadata": {},
   "outputs": [],
   "source": []
  },
  {
   "cell_type": "code",
   "execution_count": null,
   "id": "5c2c364e",
   "metadata": {},
   "outputs": [],
   "source": []
  }
 ],
 "metadata": {
  "kernelspec": {
   "display_name": "Python 3 (ipykernel)",
   "language": "python",
   "name": "python3"
  },
  "language_info": {
   "codemirror_mode": {
    "name": "ipython",
    "version": 3
   },
   "file_extension": ".py",
   "mimetype": "text/x-python",
   "name": "python",
   "nbconvert_exporter": "python",
   "pygments_lexer": "ipython3",
   "version": "3.9.12"
  }
 },
 "nbformat": 4,
 "nbformat_minor": 5
}
